{
 "cells": [
  {
   "cell_type": "code",
   "execution_count": 68,
   "metadata": {},
   "outputs": [],
   "source": [
    "import pandas as pd\n",
    "import matplotlib\n",
    "import matplotlib.pyplot as plt\n",
    "from oemof.solph import (Sink, Source, Transformer, Bus, Flow, Model,\n",
    "                         EnergySystem, Investment, NonConvex)\n",
    "import oemof.outputlib as outputlib\n",
    "import oemof.solph as solph\n",
    "import numpy as np\n",
    "import pyomo.environ as po\n",
    "import time\n",
    "solver = 'cbc'\n",
    "\n",
    "%matplotlib inline\n",
    "matplotlib.rcParams['figure.figsize'] = [8.0, 6.0]"
   ]
  },
  {
   "cell_type": "code",
   "execution_count": 69,
   "metadata": {},
   "outputs": [],
   "source": [
    "datetimeindex = pd.date_range('1/1/2016', periods=24*10, freq='H')\n",
    "filename = 'input_data.csv'\n",
    "data = pd.read_csv(filename, sep=\",\")\n",
    "\n",
    "\n",
    "def run_basic_energysystem(epc_wind, epc_solar):\n",
    "    start = time.time()\n",
    "    # initialize and provide data\n",
    "    energysystem = EnergySystem(timeindex=datetimeindex)\n",
    "\n",
    "    # buses\n",
    "    bcoal = Bus(label='coal', balanced=False)\n",
    "    bgas = Bus(label='gas', balanced=False)\n",
    "    bel = Bus(label='electricity')\n",
    "    energysystem.add(bcoal, bgas, bel)\n",
    "\n",
    "    # sources\n",
    "    energysystem.add(Source(label='wind', outputs={bel: Flow(\n",
    "        actual_value=data['wind'], investment=solph.Investment(ep_costs=epc_wind, maximum=50000)\n",
    "        , fixed=True)}))\n",
    "\n",
    "    energysystem.add(Source(label='pv', outputs={bel: Flow(\n",
    "        actual_value=data['pv'], investment=solph.Investment(ep_costs=epc_solar, maximum=50000)\n",
    "        , fixed=True)}))\n",
    "\n",
    "    # excess and shortage to avoid infeasibilies\n",
    "    energysystem.add(Sink(label='excess_el', inputs={bel: Flow()}))\n",
    "    energysystem.add(Source(label='shortage_el',\n",
    "                         outputs={bel: Flow(variable_costs=200)}))\n",
    "\n",
    "    # demands (electricity/heat)\n",
    "    energysystem.add(Sink(label='demand_el', inputs={bel: Flow(\n",
    "        nominal_value=65, actual_value=data['demand_el'], fixed=True)}))\n",
    "\n",
    "    # power plants\n",
    "    energysystem.add(Transformer(\n",
    "        label='pp_coal',\n",
    "        inputs={bcoal: Flow()},\n",
    "        outputs={bel: Flow(nominal_value=20.2, variable_costs=25)},\n",
    "        conversion_factors={bel: 0.39}))\n",
    "\n",
    "    energysystem.add(Transformer(\n",
    "        label='pp_gas',\n",
    "        inputs={bgas: Flow()},\n",
    "        outputs={bel: Flow(nominal_value=41, variable_costs=40)},\n",
    "        conversion_factors={bel: 0.50}))\n",
    "\n",
    "    # create optimization model based on energy_system\n",
    "    optimization_model = Model(energysystem=energysystem)\n",
    "\n",
    "    # solve problem\n",
    "    optimization_model.solve(solver=solver,\n",
    "                             solve_kwargs={'tee': False, 'keepfiles': False})\n",
    "\n",
    "    results = outputlib.processing.results(optimization_model)\n",
    "    string_results = outputlib.processing.convert_keys_to_strings(results)\n",
    "    \n",
    "    results_el = outputlib.views.node(results, 'electricity')\n",
    "    el_sequences = results_el['sequences']\n",
    "    el_prod = el_sequences[[(('wind', 'electricity'), 'flow'),\n",
    "                            (('pv', 'electricity'), 'flow'),\n",
    "                            (('pp_coal', 'electricity'), 'flow'),\n",
    "                            (('pp_gas', 'electricity'), 'flow'),\n",
    "                            (('shortage_el', 'electricity'), 'flow')]]\n",
    "    end = time.time()\n",
    "    print('simulation lasted: ', end - start, 'sec')\n",
    "    wind_invest = string_results[('wind', 'electricity')]['scalars']['invest']\n",
    "    pv_invest = string_results[('pv', 'electricity')]['scalars']['invest']\n",
    "    return wind_invest, pv_invest"
   ]
  },
  {
   "cell_type": "code",
   "execution_count": 70,
   "metadata": {},
   "outputs": [
    {
     "name": "stdout",
     "output_type": "stream",
     "text": [
      "simulation lasted:  1.4026429653167725 sec\n",
      "1828.2452\n",
      "1735.8981\n"
     ]
    }
   ],
   "source": [
    "epc_wind = 12.\n",
    "epc_pv = 14.\n",
    "wind_invest, pv_invest = run_basic_energysystem(epc_wind, epc_pv)\n",
    "print(wind_invest)\n",
    "print(pv_invest)"
   ]
  },
  {
   "cell_type": "code",
   "execution_count": 71,
   "metadata": {},
   "outputs": [
    {
     "name": "stdout",
     "output_type": "stream",
     "text": [
      "(80, 3)\n",
      "Parameter S1 S1_conf ST ST_conf\n",
      "x 0.420575 0.529552 0.599702 1.014922\n",
      "y -0.004614 0.434950 0.464924 0.265255\n",
      "z 0.000000 0.000000 0.000000 0.000000\n",
      "\n",
      "Parameter_1 Parameter_2 S2 S2_conf\n",
      "x y -0.149935 0.371769\n",
      "x z -0.161155 0.361728\n",
      "y z 0.452250 1.219174\n"
     ]
    }
   ],
   "source": [
    "from SALib.sample import saltelli\n",
    "from SALib.analyze import sobol\n",
    "from SALib.test_functions import Ishigami\n",
    "\n",
    "problem = {\n",
    "  'num_vars': 3,\n",
    "  'names': ['x', 'y', 'z'],\n",
    "  'bounds': [[-2, 2]]*3\n",
    "}\n",
    "\n",
    "# define a model\n",
    "def simple_model(x, y, z):\n",
    "    return np.sin(x) * y * y \n",
    "\n",
    "# Generate samples\n",
    "param_values = saltelli.sample(problem, 10)\n",
    "print(param_values.shape)\n",
    "\n",
    "# Run model (example)\n",
    "Y = simple_model(param_values[:,0], param_values[:,1], param_values[:,2])\n",
    "\n",
    "# Perform analysis\n",
    "Si = sobol.analyze(problem, Y, print_to_console=True)\n",
    "# Returns a dictionary with keys 'S1', 'S1_conf', 'ST', and 'ST_conf'\n",
    "# (first and total-order indices with bootstrap confidence intervals)"
   ]
  },
  {
   "cell_type": "code",
   "execution_count": 72,
   "metadata": {},
   "outputs": [
    {
     "data": {
      "image/png": "[encoded data removed]",
      "text/plain": [
       "<Figure size 1152x288 with 3 Axes>"
      ]
     },
     "metadata": {},
     "output_type": "display_data"
    }
   ],
   "source": [
    "fig, ax = plt.subplots(1, 3, figsize=(16,4))\n",
    "for i in [0,1,2]:\n",
    "    ax[i].scatter(param_values[:,i], Y, s=1)"
   ]
  },
  {
   "cell_type": "code",
   "execution_count": 73,
   "metadata": {},
   "outputs": [
    {
     "data": {
      "text/plain": [
       "(80,)"
      ]
     },
     "execution_count": 73,
     "metadata": {},
     "output_type": "execute_result"
    }
   ],
   "source": [
    "Y.shape"
   ]
  },
  {
   "cell_type": "code",
   "execution_count": 74,
   "metadata": {},
   "outputs": [
    {
     "name": "stdout",
     "output_type": "stream",
     "text": [
      "(60, 2)\n",
      "simulation lasted:  1.4624805450439453 sec\n",
      "simulation lasted:  1.357454538345337 sec\n",
      "simulation lasted:  1.595731496810913 sec\n",
      "simulation lasted:  1.3545756340026855 sec\n",
      "simulation lasted:  1.3594422340393066 sec\n",
      "simulation lasted:  1.3987133502960205 sec\n",
      "simulation lasted:  1.4530277252197266 sec\n",
      "simulation lasted:  1.4300587177276611 sec\n",
      "simulation lasted:  1.6806421279907227 sec\n",
      "simulation lasted:  1.4337313175201416 sec\n",
      "simulation lasted:  1.5728423595428467 sec\n",
      "simulation lasted:  1.4594287872314453 sec\n",
      "simulation lasted:  1.581432580947876 sec\n",
      "simulation lasted:  1.8130643367767334 sec\n",
      "simulation lasted:  1.4956037998199463 sec\n",
      "simulation lasted:  1.5125370025634766 sec\n",
      "simulation lasted:  1.489370346069336 sec\n",
      "simulation lasted:  1.4477832317352295 sec\n",
      "simulation lasted:  1.7798547744750977 sec\n",
      "simulation lasted:  1.5399727821350098 sec\n",
      "simulation lasted:  1.7008137702941895 sec\n",
      "simulation lasted:  1.699547290802002 sec\n",
      "simulation lasted:  1.708510160446167 sec\n",
      "simulation lasted:  1.6494715213775635 sec\n",
      "simulation lasted:  1.9979579448699951 sec\n",
      "simulation lasted:  1.7647483348846436 sec\n",
      "simulation lasted:  1.7964677810668945 sec\n",
      "simulation lasted:  1.8650424480438232 sec\n",
      "simulation lasted:  1.8343732357025146 sec\n",
      "simulation lasted:  1.7352442741394043 sec\n",
      "simulation lasted:  2.156095504760742 sec\n",
      "simulation lasted:  1.852318525314331 sec\n",
      "simulation lasted:  1.8020656108856201 sec\n",
      "simulation lasted:  1.7141664028167725 sec\n",
      "simulation lasted:  1.6684799194335938 sec\n",
      "simulation lasted:  1.9679985046386719 sec\n",
      "simulation lasted:  1.7183938026428223 sec\n",
      "simulation lasted:  1.704620599746704 sec\n",
      "simulation lasted:  1.623600959777832 sec\n",
      "simulation lasted:  1.6086711883544922 sec\n",
      "simulation lasted:  1.6255989074707031 sec\n",
      "simulation lasted:  1.9298148155212402 sec\n",
      "simulation lasted:  1.6387882232666016 sec\n",
      "simulation lasted:  1.6572139263153076 sec\n",
      "simulation lasted:  1.665787696838379 sec\n",
      "simulation lasted:  1.6336259841918945 sec\n",
      "simulation lasted:  1.9676094055175781 sec\n",
      "simulation lasted:  1.6496765613555908 sec\n",
      "simulation lasted:  1.6261241436004639 sec\n",
      "simulation lasted:  1.7914133071899414 sec\n",
      "simulation lasted:  1.7722342014312744 sec\n",
      "simulation lasted:  1.6284706592559814 sec\n",
      "simulation lasted:  1.936363935470581 sec\n",
      "simulation lasted:  1.7244555950164795 sec\n",
      "simulation lasted:  1.6886506080627441 sec\n",
      "simulation lasted:  1.863776683807373 sec\n",
      "simulation lasted:  1.7293646335601807 sec\n",
      "simulation lasted:  1.9864189624786377 sec\n",
      "simulation lasted:  1.7192740440368652 sec\n",
      "simulation lasted:  1.6655843257904053 sec\n"
     ]
    }
   ],
   "source": [
    "def run_model(x, y):\n",
    "    Y_list = []\n",
    "    for i in range(len(x)):\n",
    "        yy = run_basic_energysystem(x[i], y[i])\n",
    "        Y_list.append(yy)\n",
    "    Y = np.array(Y_list)\n",
    "    return Y\n",
    "\n",
    "problem = {\n",
    "  'num_vars': 2,\n",
    "  'names': ['x', 'y'],\n",
    "  'bounds': [[10, 40]]\n",
    "}\n",
    "\n",
    "# Generate samples\n",
    "param_values = saltelli.sample(problem, 10)\n",
    "print(param_values.shape)\n",
    "\n",
    "Y = run_model(param_values[:,0], param_values[:,1])"
   ]
  },
  {
   "cell_type": "code",
   "execution_count": 76,
   "metadata": {},
   "outputs": [
    {
     "data": {
      "text/plain": [
       "(60, 2)"
      ]
     },
     "execution_count": 76,
     "metadata": {},
     "output_type": "execute_result"
    }
   ],
   "source": [
    "Y.shape"
   ]
  },
  {
   "cell_type": "code",
   "execution_count": 77,
   "metadata": {},
   "outputs": [
    {
     "data": {
      "image/png": "[encoded data removed]",
      "text/plain": [
       "<Figure size 1152x288 with 2 Axes>"
      ]
     },
     "metadata": {},
     "output_type": "display_data"
    }
   ],
   "source": [
    "fig, ax = plt.subplots(1, 2, figsize=(16,4))\n",
    "for i in [0,1]:\n",
    "    ax[i].scatter(param_values[:,i], Y[:,0], s=1)"
   ]
  },
  {
   "cell_type": "code",
   "execution_count": null,
   "metadata": {},
   "outputs": [],
   "source": []
  }
 ],
 "metadata": {
  "kernelspec": {
   "display_name": "statistics_kernel",
   "language": "python",
   "name": "statistics_kernel"
  },
  "language_info": {
   "codemirror_mode": {
    "name": "ipython",
    "version": 3
   },
   "file_extension": ".py",
   "mimetype": "text/x-python",
   "name": "python",
   "nbconvert_exporter": "python",
   "pygments_lexer": "ipython3",
   "version": "3.5.2"
  }
 },
 "nbformat": 4,
 "nbformat_minor": 2
}
