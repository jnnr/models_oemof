{
 "cells": [
  {
   "cell_type": "markdown",
   "metadata": {},
   "source": [
    "# Modeling a DHN as a single pipe"
   ]
  },
  {
   "cell_type": "markdown",
   "metadata": {},
   "source": [
    "![image](dhn_single_pipe.svg)"
   ]
  },
  {
   "cell_type": "markdown",
   "metadata": {},
   "source": [
    "$\\Delta T$ mean differences to ambient temperature $T_{env}$. \n",
    "\n",
    "\n",
    "\\begin{equation*}\n",
    "\\dot{Q}_{prod} = c\\dot{m} \\hspace{3pt} (\\Delta T_{prod,in} - \\Delta T_{prod,r}) \\\\\n",
    "\\dot{Q}_{cons} = c\\dot{m} \\hspace{3pt} (\\Delta T_{cons,r} - \\Delta T_{cons,in}) \\\\\n",
    "\\dot{Q}_{loss,in} = c\\dot{m} \\hspace{3pt} (\\Delta T_{cons,in} - \\Delta T_{prod,in}) = c\\dot{m} \\Delta T_{prod,in} \\hspace{3pt} exp \\{-\\frac{k\\pi LD}{c\\dot{m}}\\}\\\\\n",
    "\\dot{Q}_{loss,r} = c\\dot{m} \\hspace{3pt} (\\Delta T_{prod,r} - \\Delta T_{cons,r}) = c\\dot{m} \\Delta T_{cons,r} \\hspace{3pt} exp \\{-\\frac{k\\pi LD}{c\\dot{m}}\\}\\\\\n",
    "\\dot{Q}_{prod} + \\dot{Q}_{cons} + \\dot{Q}_{loss,in} + \\dot{Q}_{loss,r} = 0 \\\\\n",
    "P_{el,pump} = \\frac{1}{\\eta}\\frac{\\Delta p }{\\rho} \\dot{m}\n",
    "\\end{equation*}"
   ]
  },
  {
   "cell_type": "markdown",
   "metadata": {},
   "source": [
    "The following assumptions are made:\n",
    "1. $\\dot{Q}_{cons}$ is known\n",
    "2. $\\Delta T_{prod,in}$ is given by the Heizkurve\n",
    "3. $\\Delta T_{cons,in} - \\Delta T_{cons,r} = \\Delta T_{drop}$ is known\n",
    "\n",
    "It follows from 1. that:\n",
    "\n",
    "\\begin{equation}\n",
    "\\dot{m} = \\frac{\\dot{Q}_{cons}}{c\\Delta T_{drop}}.\n",
    "\\end{equation}\n",
    "\n",
    "Together with 2., the mass flow is fixed. Next, the inlet temperature at the consumer is determined by:\n",
    "\n",
    "\\begin{equation}\n",
    "\\Delta T_{cons,in} = \\Delta T_{prod,in} \\hspace{3pt} exp \\{-\\frac{k\\pi LD}{c\\dot{m}}\\}\n",
    "\\end{equation}\n",
    "\n",
    "The return temperature at the consumer is given by 3. Again, the return temperature at the producer is reduced by losses on the return line:\n",
    "\n",
    "\\begin{equation}\n",
    "\\Delta T_{prod,r} = \\Delta T_{cons,r} \\hspace{3pt} exp \\{-\\frac{k\\pi LD}{c\\dot{m}}\\}\n",
    "\\end{equation}\n",
    "\n",
    "We are interested in $\\dot{Q}_{prod}$. It can be determined by\n",
    "\n",
    "\\begin{equation}\n",
    "\\dot{Q}_{prod} = c\\dot{m} (\\Delta T_{prod,in} - \\Delta T_{prod,r}).\n",
    "\\end{equation}\n",
    "\n",
    "We insert above equations and finally get:\n",
    "\n",
    "\\begin{equation}\n",
    "\\dot{Q}_{prod} = \\dot{Q}_{prod}(\\dot{Q}_{cons}) = \\dot{Q}_{cons} \\frac{1}{\\Delta T_{drop}}(\\Delta T_{prod,in}(1- exp \\{-2\\frac{k\\pi LD}{c\\dot{m}}\\}) + \\Delta T_{drop} exp \\{-\\frac{k\\pi LD}{c\\dot{m}}\\}) \\\\\n",
    "P_{el,pump} = P_{el,pump}(\\dot{Q}_{cons}) = \n",
    "\\end{equation}"
   ]
  },
  {
   "cell_type": "code",
   "execution_count": 2,
   "metadata": {},
   "outputs": [
    {
     "name": "stderr",
     "output_type": "stream",
     "text": [
      "/home/jann/Desktop/repos/venv/lib/python3.6/importlib/_bootstrap.py:219: RuntimeWarning: numpy.dtype size changed, may indicate binary incompatibility. Expected 96, got 88\n",
      "  return f(*args, **kwds)\n"
     ]
    }
   ],
   "source": [
    "import numpy as np\n",
    "import matplotlib.pyplot as plt\n",
    "import pandas as pd\n",
    "   \n",
    "def single_pipe(Q_cons, DT_drop, DT_prod_in, k, L, D, c):\n",
    "    r\"\"\"\n",
    "    \n",
    "    \n",
    "    \"\"\"\n",
    "    # hydraulic part\n",
    "    # mass flow is determined by consumer mass flow\n",
    "    m = Q_cons * 1 /(c*DT_drop)\n",
    "    \n",
    "    # pressure loss\n",
    "    K = 3\n",
    "    pressure_loss = K * m**2\n",
    "    Dp_pump = 2 * pressure_loss\n",
    "    P_pump = Dp_pump * m\n",
    "\n",
    "    # heat losses in feedin and return pipe\n",
    "    exponent = k * np.pi * L * D * 1/(c*m)\n",
    "    DT_cons_in = DT_prod_in * np.exp(-1*exponent)\n",
    "    DT_prod_r = (DT_cons_in - DT_drop) *  np.exp(-1*exponent)\n",
    "\n",
    "    Q_prod = c * m * (DT_prod_in - DT_prod_r)\n",
    "    Q_loss = Q_prod - Q_cons\n",
    "    \n",
    "    if DT_prod_r > 0:\n",
    "        return {'Q_prod': Q_prod,\n",
    "                'DT_cons_in': DT_cons_in,\n",
    "                'DT_prod_r': DT_prod_r,\n",
    "                'm': m,\n",
    "                'pressure_loss': pressure_loss,\n",
    "                'P_pump': P_pump,\n",
    "                'Q_loss': Q_loss}\n",
    "    else:\n",
    "        return np.nan, np.nan, np.nan, np.nan, np.nan"
   ]
  },
  {
   "cell_type": "markdown",
   "metadata": {},
   "source": [
    "Rohrdurchmesser und Beschaffenheit, Druckverluste, Massenstrom und Pumpleistung\n",
    "\n"
   ]
  },
  {
   "cell_type": "code",
   "execution_count": 3,
   "metadata": {},
   "outputs": [
    {
     "data": {
      "text/html": [
       "<div>\n",
       "<style scoped>\n",
       "    .dataframe tbody tr th:only-of-type {\n",
       "        vertical-align: middle;\n",
       "    }\n",
       "\n",
       "    .dataframe tbody tr th {\n",
       "        vertical-align: top;\n",
       "    }\n",
       "\n",
       "    .dataframe thead th {\n",
       "        text-align: right;\n",
       "    }\n",
       "</style>\n",
       "<table border=\"1\" class=\"dataframe\">\n",
       "  <thead>\n",
       "    <tr style=\"text-align: right;\">\n",
       "      <th></th>\n",
       "      <th>pressure_loss</th>\n",
       "      <th>mass_flow</th>\n",
       "      <th>Q_prod</th>\n",
       "      <th>Q_loss</th>\n",
       "      <th>P_pump</th>\n",
       "      <th>loss_perc</th>\n",
       "    </tr>\n",
       "    <tr>\n",
       "      <th>Q_cons</th>\n",
       "      <th></th>\n",
       "      <th></th>\n",
       "      <th></th>\n",
       "      <th></th>\n",
       "      <th></th>\n",
       "      <th></th>\n",
       "    </tr>\n",
       "  </thead>\n",
       "  <tbody>\n",
       "    <tr>\n",
       "      <th>1000</th>\n",
       "      <td>0.001715</td>\n",
       "      <td>0.023912</td>\n",
       "      <td>1058.666467</td>\n",
       "      <td>58.666467</td>\n",
       "      <td>0.000082</td>\n",
       "      <td>0.055415</td>\n",
       "    </tr>\n",
       "    <tr>\n",
       "      <th>2000</th>\n",
       "      <td>0.006861</td>\n",
       "      <td>0.047824</td>\n",
       "      <td>2058.785506</td>\n",
       "      <td>58.785506</td>\n",
       "      <td>0.000656</td>\n",
       "      <td>0.028553</td>\n",
       "    </tr>\n",
       "  </tbody>\n",
       "</table>\n",
       "</div>"
      ],
      "text/plain": [
       "        pressure_loss  mass_flow       Q_prod     Q_loss    P_pump  loss_perc\n",
       "Q_cons                                                                       \n",
       "1000         0.001715   0.023912  1058.666467  58.666467  0.000082   0.055415\n",
       "2000         0.006861   0.047824  2058.785506  58.785506  0.000656   0.028553"
      ]
     },
     "execution_count": 3,
     "metadata": {},
     "output_type": "execute_result"
    }
   ],
   "source": [
    "DT_drop = 10 # Kelvin\n",
    "DT_prod_in = 80 # Kelvin, from Heizkurve\n",
    "k = 0.001 # W/(m^2 * K) \n",
    "L = 500 #m \n",
    "D = 0.25 # m\n",
    "c = 4182 # J/(kg*K) at 20°C\n",
    "Q_cons = 50\n",
    "\n",
    "# Verschiedene Wärmenachfragen\n",
    "dic = {'Q_cons': [1000, 2000, 3000, 4000, 5000],\n",
    "      'pressure_loss': [],\n",
    "      'mass_flow': [],\n",
    "      'Q_prod': [],\n",
    "      'Q_loss': [],\n",
    "      'P_pump': []}\n",
    "\n",
    "for q in dic['Q_cons']:\n",
    "    dic['pressure_loss'].append(single_pipe(q, DT_drop, DT_prod_in, k, L, D, c)['pressure_loss'])\n",
    "    dic['P_pump'].append(single_pipe(q, DT_drop, DT_prod_in, k, L, D, c)['P_pump'])\n",
    "    dic['mass_flow'].append(single_pipe(q, DT_drop, DT_prod_in, k, L, D, c)['m'])\n",
    "    dic['Q_prod'].append(single_pipe(q, DT_drop, DT_prod_in, k, L, D, c)['Q_prod'])\n",
    "    dic['Q_loss'].append(single_pipe(q, DT_drop, DT_prod_in, k, L, D, c)['Q_loss'])\n",
    "\n",
    "\n",
    "df = pd.DataFrame(dic)\n",
    "df = df.set_index('Q_cons')\n",
    "\n",
    "df['loss_perc'] = df['Q_loss'] * 1/df['Q_prod']\n",
    "df.head(2)"
   ]
  },
  {
   "cell_type": "code",
   "execution_count": 4,
   "metadata": {},
   "outputs": [
    {
     "data": {
      "image/png": "[encoded data removed]",
      "text/plain": [
       "<Figure size 360x720 with 6 Axes>"
      ]
     },
     "metadata": {
      "needs_background": "light"
     },
     "output_type": "display_data"
    }
   ],
   "source": [
    "fig, axs = plt.subplots(len(df.columns), 1, figsize=(5,10))\n",
    "for i, c in enumerate(df.columns):\n",
    "    df[c].plot(ax=axs[i], marker='.', markersize=20)\n",
    "    axs[i].set_xlabel('Q_cons')\n",
    "    axs[i].set_ylabel(c)\n",
    "\n"
   ]
  },
  {
   "cell_type": "markdown",
   "metadata": {},
   "source": [
    "Temperaturspreizung"
   ]
  },
  {
   "cell_type": "markdown",
   "metadata": {},
   "source": [
    "Wärmeverluste"
   ]
  },
  {
   "cell_type": "markdown",
   "metadata": {},
   "source": [
    "Kosten (Pumpkosten + Wärmekosten)"
   ]
  },
  {
   "cell_type": "markdown",
   "metadata": {},
   "source": [
    "Bei versch. Außentemperaturen\n",
    "Bei verschiedenen Temperaturniveaus"
   ]
  },
  {
   "cell_type": "code",
   "execution_count": null,
   "metadata": {},
   "outputs": [],
   "source": []
  }
 ],
 "metadata": {
  "kernelspec": {
   "display_name": "Python 3",
   "language": "python",
   "name": "python3"
  },
  "language_info": {
   "codemirror_mode": {
    "name": "ipython",
    "version": 3
   },
   "file_extension": ".py",
   "mimetype": "text/x-python",
   "name": "python",
   "nbconvert_exporter": "python",
   "pygments_lexer": "ipython3",
   "version": "3.6.6"
  }
 },
 "nbformat": 4,
 "nbformat_minor": 2
}
