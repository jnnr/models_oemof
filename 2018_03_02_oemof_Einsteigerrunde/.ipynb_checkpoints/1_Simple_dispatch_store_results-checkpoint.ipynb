{
 "cells": [
  {
   "cell_type": "markdown",
   "metadata": {},
   "source": [
    "# Energy system optimisation with oemof - how to collect and store results"
   ]
  },
  {
   "cell_type": "markdown",
   "metadata": {},
   "source": [
    "### Import necessary modules"
   ]
  },
  {
   "cell_type": "code",
   "execution_count": 1,
   "metadata": {},
   "outputs": [],
   "source": [
    "import os\n",
    "import pandas as pd\n",
    "from oemof.solph import (Sink, Source, Transformer, Bus, Flow, Model,\n",
    "                         EnergySystem)\n",
    "import oemof.outputlib as outputlib\n",
    "import pickle"
   ]
  },
  {
   "cell_type": "markdown",
   "metadata": {},
   "source": [
    "### Specify solver"
   ]
  },
  {
   "cell_type": "code",
   "execution_count": 2,
   "metadata": {},
   "outputs": [],
   "source": [
    "solver = 'cbc'"
   ]
  },
  {
   "cell_type": "markdown",
   "metadata": {},
   "source": [
    "### Create an energy system and optimize the dispatch at least costs."
   ]
  },
  {
   "cell_type": "code",
   "execution_count": 3,
   "metadata": {},
   "outputs": [],
   "source": [
    "# initialize and provide data\n",
    "datetimeindex = pd.date_range('1/1/2016', periods=24*10, freq='H')\n",
    "energysystem = EnergySystem(timeindex=datetimeindex)\n",
    "filename = 'input_data.csv'\n",
    "data = pd.read_csv(filename, sep=\",\")"
   ]
  },
  {
   "cell_type": "markdown",
   "metadata": {},
   "source": [
    "### Create and add components to energysystem"
   ]
  },
  {
   "cell_type": "code",
   "execution_count": 4,
   "metadata": {},
   "outputs": [],
   "source": [
    "# resource buses\n",
    "bcoal = Bus(label='coal', balanced=False)\n",
    "bgas = Bus(label='gas', balanced=False)\n",
    "boil = Bus(label='oil', balanced=False)\n",
    "blig = Bus(label='lignite', balanced=False)\n",
    "\n",
    "# electricity and heat\n",
    "bel = Bus(label='bel')\n",
    "bth = Bus(label='bth')\n",
    "\n",
    "energysystem.add(bcoal, bgas, boil, blig, bel, bth)"
   ]
  },
  {
   "cell_type": "code",
   "execution_count": 5,
   "metadata": {},
   "outputs": [],
   "source": [
    "# an excess and a shortage variable can help to avoid infeasible problems\n",
    "energysystem.add(Sink(label='excess_el', inputs={bel: Flow()}))\n",
    "# shortage_el = Source(label='shortage_el',\n",
    "#                      outputs={bel: Flow(variable_costs=200)})\n",
    "\n",
    "# sources\n",
    "energysystem.add(Source(label='wind', outputs={bel: Flow(\n",
    "    actual_value=data['wind'], nominal_value=66.3, fixed=True)}))\n",
    "\n",
    "energysystem.add(Source(label='pv', outputs={bel: Flow(\n",
    "    actual_value=data['pv'], nominal_value=65.3, fixed=True)}))\n",
    "\n",
    "# demands (electricity/heat)\n",
    "energysystem.add(Sink(label='demand_el', inputs={bel: Flow(\n",
    "    nominal_value=85, actual_value=data['demand_el'], fixed=True)}))\n",
    "\n",
    "energysystem.add(Sink(label='demand_th',\n",
    "                 inputs={bth: Flow(nominal_value=40,\n",
    "                                   actual_value=data['demand_th'],\n",
    "                                   fixed=True)}))"
   ]
  },
  {
   "cell_type": "code",
   "execution_count": 6,
   "metadata": {},
   "outputs": [],
   "source": [
    "# power plants\n",
    "energysystem.add(Transformer(\n",
    "    label='pp_coal',\n",
    "    inputs={bcoal: Flow()},\n",
    "    outputs={bel: Flow(nominal_value=20.2, variable_costs=25)},\n",
    "    conversion_factors={bel: 0.39}))\n",
    "\n",
    "energysystem.add(Transformer(\n",
    "    label='pp_lig',\n",
    "    inputs={blig: Flow()},\n",
    "    outputs={bel: Flow(nominal_value=11.8, variable_costs=19)},\n",
    "    conversion_factors={bel: 0.41}))\n",
    "\n",
    "energysystem.add(Transformer(\n",
    "    label='pp_gas',\n",
    "    inputs={bgas: Flow()},\n",
    "    outputs={bel: Flow(nominal_value=41, variable_costs=40)},\n",
    "    conversion_factors={bel: 0.50}))\n",
    "\n",
    "energysystem.add(Transformer(\n",
    "    label='pp_oil',\n",
    "    inputs={boil: Flow()},\n",
    "    outputs={bel: Flow(nominal_value=5, variable_costs=50)},\n",
    "    conversion_factors={bel: 0.28}))"
   ]
  },
  {
   "cell_type": "code",
   "execution_count": 7,
   "metadata": {},
   "outputs": [],
   "source": [
    "# combined heat and power plant (chp)\n",
    "energysystem.add(Transformer(\n",
    "    label='pp_chp',\n",
    "    inputs={bgas: Flow()},\n",
    "    outputs={bel: Flow(nominal_value=30, variable_costs=42),\n",
    "             bth: Flow(nominal_value=40)},\n",
    "    conversion_factors={bel: 0.3, bth: 0.4}))"
   ]
  },
  {
   "cell_type": "code",
   "execution_count": 8,
   "metadata": {},
   "outputs": [],
   "source": [
    "# heat pump with a coefficient of performance (COP) of 3\n",
    "b_heat_source = Bus(label='b_heat_source')\n",
    "energysystem.add(b_heat_source)\n",
    "\n",
    "energysystem.add(Source(label='heat_source', outputs={b_heat_source: Flow()}))\n",
    "\n",
    "cop = 3\n",
    "energysystem.add(Transformer(\n",
    "    label='heat_pump',\n",
    "    inputs={bel: Flow(),\n",
    "            b_heat_source: Flow()},\n",
    "    outputs={bth: Flow(nominal_value=10)},\n",
    "    conversion_factors={bel: 1/3, b_heat_source: (cop-1)/cop}))"
   ]
  },
  {
   "cell_type": "markdown",
   "metadata": {},
   "source": [
    "### Optimization"
   ]
  },
  {
   "cell_type": "code",
   "execution_count": 9,
   "metadata": {},
   "outputs": [
    {
     "name": "stdout",
     "output_type": "stream",
     "text": [
      "Welcome to the CBC MILP Solver \n",
      "Version: 2.8.12 \n",
      "Build Date: Feb 22 2016 \n",
      "\n",
      "command line - /usr/bin/cbc -printingOptions all -import /tmp/tmpddcm3blm.pyomo.lp -import -stat=1 -solve -solu /tmp/tmpddcm3blm.pyomo.soln (default strategy 1)\n",
      "Option for printingOptions changed from normal to all\n",
      "Current default (if $ as parameter) for import is /tmp/tmpddcm3blm.pyomo.lp\n",
      "Presolve 224 (-2417) rows, 1120 (-2721) columns and 1120 (-5361) elements\n",
      "Statistics for presolved model\n",
      "\n",
      "\n",
      "Problem has 224 rows, 1120 columns (1120 with objective) and 1120 elements\n",
      "There are 1120 singletons with objective \n",
      "Column breakdown:\n",
      "0 of type 0.0->inf, 997 of type 0.0->up, 0 of type lo->inf, \n",
      "123 of type lo->up, 0 of type free, 0 of type fixed, \n",
      "0 of type -inf->0.0, 0 of type -inf->up, 0 of type 0.0->1.0 \n",
      "Row breakdown:\n",
      "0 of type E 0.0, 0 of type E 1.0, 0 of type E -1.0, \n",
      "0 of type E other, 0 of type G 0.0, 0 of type G 1.0, \n",
      "224 of type G other, 0 of type L 0.0, 0 of type L 1.0, \n",
      "0 of type L other, 0 of type Range 0.0->1.0, 0 of type Range other, \n",
      "0 of type Free \n",
      "Presolve 224 (-2417) rows, 1120 (-2721) columns and 1120 (-5361) elements\n",
      "Perturbing problem by 0.001 %% of 25 - largest nonzero change 2.8406996e-06 (%% 1.3613174e-05) - largest zero change 0\n",
      "0  Obj 142834.82 Primal inf 18711.432 (224)\n",
      "79  Obj 240801.64 Primal inf 11177.467 (145)\n",
      "158  Obj 331076.42 Primal inf 4177.8209 (66)\n",
      "224  Obj 383538.33\n",
      "Optimal - objective value 383538.3\n",
      "After Postsolve, objective 383538.3, infeasibilities - dual 0 (0), primal 0 (0)\n",
      "Optimal objective 383538.2988 - 224 iterations time 0.002, Presolve 0.00\n",
      "Total time (CPU seconds):       0.02   (Wallclock seconds):       0.04\n",
      "\n"
     ]
    },
    {
     "data": {
      "text/plain": [
       "{'Problem': [{'Number of objectives': 1, 'Lower bound': 383538.3, 'Number of constraints': 2641, 'Number of nonzeros': 6481, 'Number of variables': 3841, 'Upper bound': 383538.3, 'Name': 'tmpddcm3blm.pyomo', 'Sense': 'minimize'}], 'Solution': [OrderedDict([('number of solutions', 0), ('number of solutions displayed', 0)])], 'Solver': [{'Error rc': 0, 'User time': -1.0, 'Time': 0.052008628845214844, 'Termination condition': 'optimal', 'Status': 'ok'}]}"
      ]
     },
     "execution_count": 9,
     "metadata": {},
     "output_type": "execute_result"
    }
   ],
   "source": [
    "# create optimization model based on energy_system\n",
    "optimization_model = Model(energysystem=energysystem)\n",
    "\n",
    "# solve problem\n",
    "optimization_model.solve(solver=solver,\n",
    "                         solve_kwargs={'tee': True, 'keepfiles': False})"
   ]
  },
  {
   "cell_type": "markdown",
   "metadata": {},
   "source": [
    "### Write results into energysystem.results object for later"
   ]
  },
  {
   "cell_type": "code",
   "execution_count": 10,
   "metadata": {},
   "outputs": [
    {
     "name": "stdout",
     "output_type": "stream",
     "text": [
      "dict_keys([(<oemof.solph.network.Transformer object at 0x7f6b44195138>, <oemof.solph.network.Bus object at 0x7f6b44125188>), (<oemof.solph.network.Transformer object at 0x7f6b4414ccc8>, <oemof.solph.network.Bus object at 0x7f6b44125138>), (<oemof.solph.network.Bus object at 0x7f6b44125138>, <oemof.solph.network.Sink object at 0x7f6b4414c688>), (<oemof.solph.network.Bus object at 0x7f6b44125188>, <oemof.solph.network.Sink object at 0x7f6b4414c908>), (<oemof.solph.network.Bus object at 0x7f6b4418ad68>, <oemof.solph.network.Transformer object at 0x7f6b440dd4f8>), (<oemof.solph.network.Bus object at 0x7f6b441250e8>, <oemof.solph.network.Transformer object at 0x7f6b4414ccc8>), (<oemof.solph.network.Transformer object at 0x7f6b4414cef8>, <oemof.solph.network.Bus object at 0x7f6b44125138>), (<oemof.solph.network.Bus object at 0x7f6b44125138>, <oemof.solph.network.Sink object at 0x7f6b44138ea8>), (<oemof.solph.network.Source object at 0x7f6b441484f8>, <oemof.solph.network.Bus object at 0x7f6b44125138>), (<oemof.solph.network.Bus object at 0x7f6b44195188>, <oemof.solph.network.Transformer object at 0x7f6b44195138>), (<oemof.solph.network.Transformer object at 0x7f6b440dd4a8>, <oemof.solph.network.Bus object at 0x7f6b44125138>), (<oemof.solph.network.Bus object at 0x7f6b44195188>, <oemof.solph.network.Transformer object at 0x7f6b440dd4a8>), (<oemof.solph.network.Bus object at 0x7f6b44195278>, <oemof.solph.network.Transformer object at 0x7f6b4414cef8>), (<oemof.solph.network.Transformer object at 0x7f6b440dd4f8>, <oemof.solph.network.Bus object at 0x7f6b44125138>), (<oemof.solph.network.Transformer object at 0x7f6b44155318>, <oemof.solph.network.Bus object at 0x7f6b44125188>), (<oemof.solph.network.Source object at 0x7f6b4413d278>, <oemof.solph.network.Bus object at 0x7f6b44125138>), (<oemof.solph.network.Bus object at 0x7f6b4414cc28>, <oemof.solph.network.Transformer object at 0x7f6b44155318>), (<oemof.solph.network.Source object at 0x7f6b441552c8>, <oemof.solph.network.Bus object at 0x7f6b4414cc28>), (<oemof.solph.network.Transformer object at 0x7f6b44195138>, <oemof.solph.network.Bus object at 0x7f6b44125138>), (<oemof.solph.network.Bus object at 0x7f6b44125138>, <oemof.solph.network.Transformer object at 0x7f6b44155318>)])\n"
     ]
    }
   ],
   "source": [
    "energysystem.results['main'] = outputlib.processing.results(optimization_model)\n",
    "energysystem.results['meta'] = outputlib.processing.meta_results(optimization_model)\n",
    "print(energysystem.results['main'].keys())"
   ]
  },
  {
   "cell_type": "code",
   "execution_count": 11,
   "metadata": {},
   "outputs": [
    {
     "name": "stdout",
     "output_type": "stream",
     "text": [
      "dict_keys([('pp_chp', 'bth'), ('pp_lig', 'bel'), ('bel', 'heat_pump'), ('bel', 'demand_el'), ('bth', 'demand_th'), ('oil', 'pp_oil'), ('lignite', 'pp_lig'), ('pp_coal', 'bel'), ('bel', 'excess_el'), ('pv', 'bel'), ('gas', 'pp_chp'), ('pp_gas', 'bel'), ('gas', 'pp_gas'), ('pp_oil', 'bel'), ('heat_pump', 'bth'), ('wind', 'bel'), ('b_heat_source', 'heat_pump'), ('heat_source', 'b_heat_source'), ('pp_chp', 'bel'), ('coal', 'pp_coal')])\n"
     ]
    }
   ],
   "source": [
    "string_results = outputlib.views.convert_keys_to_strings(energysystem.results['main'])\n",
    "print(string_results.keys())"
   ]
  },
  {
   "cell_type": "markdown",
   "metadata": {},
   "source": [
    "### Save results - Recommended way: Dump the energysystem (to ~/home/user/.oemof by default)\n",
    "Specify path and filename if you do not want to overwrite"
   ]
  },
  {
   "cell_type": "code",
   "execution_count": 12,
   "metadata": {},
   "outputs": [
    {
     "data": {
      "text/plain": [
       "'Attributes dumped to: /home/local/RL-INSTITUT/jann.launer/.oemof/dumps/es_dump.oemof'"
      ]
     },
     "execution_count": 12,
     "metadata": {},
     "output_type": "execute_result"
    }
   ],
   "source": [
    "energysystem.dump(dpath=None, filename=None)"
   ]
  },
  {
   "cell_type": "markdown",
   "metadata": {},
   "source": [
    "### Alternative way: save results dictionary\n",
    "Storing only the results dictionary brings the disadvantage that oemofs functions like e.g outputlib.views.node() cannot be used on restored dictionary. Therefore dumping the whole energysystem with the results as shown above is recommended."
   ]
  },
  {
   "cell_type": "code",
   "execution_count": 13,
   "metadata": {},
   "outputs": [],
   "source": [
    "string_results = outputlib.views.convert_keys_to_strings(energysystem.results['main'])\n",
    "\n",
    "results_filename = 'results_dict.pickle'\n",
    "pickle_out = open(results_filename,\"wb\")\n",
    "pickle.dump(string_results, pickle_out)\n",
    "pickle_out.close()"
   ]
  }
 ],
 "metadata": {
  "kernelspec": {
   "display_name": "Python 3",
   "language": "python",
   "name": "python3"
  },
  "language_info": {
   "codemirror_mode": {
    "name": "ipython",
    "version": 3
   },
   "file_extension": ".py",
   "mimetype": "text/x-python",
   "name": "python",
   "nbconvert_exporter": "python",
   "pygments_lexer": "ipython3",
   "version": "3.5.3"
  }
 },
 "nbformat": 4,
 "nbformat_minor": 2
}
