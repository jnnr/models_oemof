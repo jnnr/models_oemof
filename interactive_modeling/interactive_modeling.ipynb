{
 "cells": [
  {
   "cell_type": "markdown",
   "metadata": {},
   "source": [
    "# More features"
   ]
  },
  {
   "cell_type": "code",
   "execution_count": null,
   "metadata": {},
   "outputs": [],
   "source": [
    "import pandas as pd\n",
    "import matplotlib\n",
    "import matplotlib.pyplot as plt\n",
    "from oemof.solph import (Sink, Source, Transformer, Bus, Flow, Model,\n",
    "                         EnergySystem, Investment, NonConvex)\n",
    "import oemof.outputlib as outputlib\n",
    "import oemof.solph as solph\n",
    "import numpy as np\n",
    "import holoviews as hv\n",
    "hv.extension('bokeh')\n",
    "import xarray as xr\n",
    "import pyomo.environ as po\n",
    "import time\n",
    "solver = 'cbc'\n",
    "\n",
    "%matplotlib inline\n",
    "matplotlib.rcParams['figure.figsize'] = [8.0, 6.0]"
   ]
  },
  {
   "cell_type": "code",
   "execution_count": null,
   "metadata": {},
   "outputs": [],
   "source": [
    "color_dict ={\n",
    "             'coal': '#755d5d',\n",
    "             'gas': '#c76c56',\n",
    "             'oil': '#494a19',\n",
    "             'lignite': '#56201d',\n",
    "             'wind': '#4ca7c3',\n",
    "             'pv': '#ffde32',\n",
    "             'excess_el': '#9a9da1',\n",
    "             'pp_coal': '#755d5d',\n",
    "             'pp_gas': '#c76c56',\n",
    "             'pp_chp': '#eeac7e',\n",
    "             'b_heat_source': '#cd3333',\n",
    "             'heat_source': '#cd3333',\n",
    "             'heat_pump': '#42c77a',\n",
    "             'electricity': '#0079ff',\n",
    "             'demand_el': '#0079ff',\n",
    "             'shortage_el': '#ff2626',\n",
    "             'excess_el': '#ff2626',\n",
    "             'biomass': '#01b42e',\n",
    "             'pp_biomass': '#01b42e'}"
   ]
  },
  {
   "cell_type": "code",
   "execution_count": null,
   "metadata": {},
   "outputs": [],
   "source": [
    "datetimeindex = pd.date_range('1/1/2016', periods=24*10, freq='H')\n",
    "filename = 'input_data.csv'\n",
    "data = pd.read_csv(filename, sep=\",\")\n",
    "\n",
    "\n",
    "def run_basic_energysystem(n_val_wind, n_val_solar):\n",
    "    start = time.time()\n",
    "    # initialize and provide data\n",
    "    energysystem = EnergySystem(timeindex=datetimeindex)\n",
    "\n",
    "    # buses\n",
    "    bcoal = Bus(label='coal', balanced=False)\n",
    "    bgas = Bus(label='gas', balanced=False)\n",
    "    bel = Bus(label='electricity')\n",
    "    energysystem.add(bcoal, bgas, bel)\n",
    "\n",
    "    # sources\n",
    "    energysystem.add(Source(label='wind', outputs={bel: Flow(\n",
    "        actual_value=data['wind'], nominal_value=n_val_wind, fixed=True)}))\n",
    "\n",
    "    energysystem.add(Source(label='pv', outputs={bel: Flow(\n",
    "        actual_value=data['pv'], nominal_value=n_val_solar, fixed=True)}))\n",
    "\n",
    "    # excess and shortage to avoid infeasibilies\n",
    "    energysystem.add(Sink(label='excess_el', inputs={bel: Flow()}))\n",
    "    energysystem.add(Source(label='shortage_el',\n",
    "                         outputs={bel: Flow(variable_costs=200)}))\n",
    "\n",
    "    # demands (electricity/heat)\n",
    "    energysystem.add(Sink(label='demand_el', inputs={bel: Flow(\n",
    "        nominal_value=65, actual_value=data['demand_el'], fixed=True)}))\n",
    "\n",
    "    # power plants\n",
    "    energysystem.add(Transformer(\n",
    "        label='pp_coal',\n",
    "        inputs={bcoal: Flow()},\n",
    "        outputs={bel: Flow(nominal_value=20.2, variable_costs=25)},\n",
    "        conversion_factors={bel: 0.39}))\n",
    "\n",
    "    energysystem.add(Transformer(\n",
    "        label='pp_gas',\n",
    "        inputs={bgas: Flow()},\n",
    "        outputs={bel: Flow(nominal_value=41, variable_costs=40)},\n",
    "        conversion_factors={bel: 0.50}))\n",
    "\n",
    "    # create optimization model based on energy_system\n",
    "    optimization_model = Model(energysystem=energysystem)\n",
    "\n",
    "    # solve problem\n",
    "    optimization_model.solve(solver=solver,\n",
    "                             solve_kwargs={'tee': False, 'keepfiles': False})\n",
    "\n",
    "    results = outputlib.processing.results(optimization_model)\n",
    "\n",
    "    results_el = outputlib.views.node(results, 'electricity')\n",
    "    el_sequences = results_el['sequences']\n",
    "    el_prod = el_sequences[[(('wind', 'electricity'), 'flow'),\n",
    "                            (('pv', 'electricity'), 'flow'),\n",
    "                            (('pp_coal', 'electricity'), 'flow'),\n",
    "                            (('pp_gas', 'electricity'), 'flow'),\n",
    "                            (('shortage_el', 'electricity'), 'flow')]]\n",
    "    \n",
    "    inputs = outputlib.processing.convert_keys_to_strings(outputlib.processing.parameter_as_dict(optimization_model))\n",
    "    nom_vals = [[key, value['scalars']['nominal_value']] for key, value in inputs.items() if 'nominal_value' in value['scalars']]\n",
    "    nom_vals = pd.DataFrame(nom_vals, columns=['flow', 'nominal_value'])\n",
    "    summed_flows = [(key, value['sequences'].sum()[0]) for key, value in outputlib.processing.convert_keys_to_strings(results).items()]\n",
    "    summed_flows = pd.DataFrame(summed_flows, columns=['flow', 'summed_flows'])\n",
    "\n",
    "    end = time.time()\n",
    "    print('simulation lasted: ', end - start, 'sec')\n",
    "    \n",
    "    return el_sequences[(('electricity', 'demand_el'), 'flow')], el_prod, nom_vals, summed_flows"
   ]
  },
  {
   "cell_type": "code",
   "execution_count": null,
   "metadata": {},
   "outputs": [],
   "source": [
    "n_vals_wind = range(30,70,10)\n",
    "n_vals_solar = range(10,70,10)\n",
    "list_i = []\n",
    "for i in n_vals_wind:\n",
    "    list_j = []\n",
    "    for j in n_vals_solar:\n",
    "        el_demand, el_prod, nom_vals, summed_flows = run_basic_energysystem(i, j)\n",
    "        el_prod_indexed = np.array(el_prod)\n",
    "        list_j.append(el_prod_indexed)\n",
    "    list_i.append(list_j)"
   ]
  },
  {
   "cell_type": "code",
   "execution_count": null,
   "metadata": {},
   "outputs": [],
   "source": [
    "stacked_results = np.stack(list_i, axis=0)"
   ]
  },
  {
   "cell_type": "code",
   "execution_count": null,
   "metadata": {},
   "outputs": [],
   "source": [
    "times = el_prod.index\n",
    "producer = el_prod.columns\n",
    "stacked_results = xr.DataArray(stacked_results, coords=[n_vals_wind, n_vals_solar, times, producer], dims=['n_vals_wind', 'n_vals_solar', 'times', 'producer'])"
   ]
  },
  {
   "cell_type": "code",
   "execution_count": null,
   "metadata": {},
   "outputs": [],
   "source": [
    "fig, ax = plt.subplots(figsize=(14, 6))\n",
    "for key in el_prod.keys():\n",
    "    color_dict[key] = color_dict[key[0][0]] \n",
    "c=[color_dict.get(x, '#333333') for x in el_prod.columns]\n",
    "el_prod.plot.area(ax=ax, color=c)\n",
    "el_demand.plot(ax=ax, linewidth=3, c='k')\n",
    "legend = ax.legend(loc='center left', bbox_to_anchor=(1.0, 0.5)) # legend outside of plot"
   ]
  },
  {
   "cell_type": "code",
   "execution_count": null,
   "metadata": {},
   "outputs": [],
   "source": [
    "def create_interactive_plot(data_dispatch, data_bars):\n",
    "    \"\"\"\n",
    "\n",
    "    \"\"\"    \n",
    "    %%output size=150\n",
    "    dispatch_hmap = hv.HoloMap({(i, k): hv.Area.stack(hv.Overlay([hv.Area(data_dispatch[k, i, :, j]) for j in range(n_stack)]))\n",
    "                       for i in range(n_i) for k in range(n_k)}, kdims=['price pv', 'price wind']).options(width=500, height=200)\n",
    "\n",
    "    bar_hmap = hv.HoloMap({(i, k): hv.Bars(data_bars, hv.Dimension('Technology'), 'Installed capacity')\n",
    "                       for i in range(n_i) for k in range(n_k)}, kdims=['price pv', 'price wind'])\n",
    "\n",
    "    layout = hv.Layout(dispatch_hmap + bar_hmap).cols(1)\n",
    "\n",
    "    ## https://github.com/ioam/holoviews/issues/1819\n",
    "    renderer = hv.renderer('bokeh')\n",
    "\n",
    "    # Using renderer save\n",
    "    # renderer.save(dispatch_hmap + bar_hmap, 'interactive_modeling')\n",
    "\n",
    "    renderer.save(dispatch_hmap + bar_hmap, 'interactive_modeling')\n",
    "\n",
    "n_stack = len(producer)\n",
    "t = 240\n",
    "n_i = len(n_vals_solar)\n",
    "n_k = len(n_vals_wind)\n",
    "\n",
    "# values = np.random.rand(n_stack, t, n_i, n_k)\n",
    "data_dispatch = stacked_results\n",
    "data_bars = [('nom_val_wind', 1),('nom_val_pv', 1)]\n",
    "\n",
    "create_interactive_plot(data_dispatch, data_bars)"
   ]
  },
  {
   "cell_type": "code",
   "execution_count": null,
   "metadata": {},
   "outputs": [],
   "source": [
    "data_dispatch.shape"
   ]
  },
  {
   "cell_type": "code",
   "execution_count": null,
   "metadata": {},
   "outputs": [],
   "source": [
    "ax1 = summed_flows.plot.bar(x='flow', y='summed_flows', rot=0)\n",
    "ax2 = nom_vals.plot.bar(x='flow', y='nominal_value', rot=0)"
   ]
  },
  {
   "cell_type": "code",
   "execution_count": null,
   "metadata": {},
   "outputs": [],
   "source": []
  }
 ],
 "metadata": {
  "kernelspec": {
   "display_name": "Python 3",
   "language": "python",
   "name": "python3"
  },
  "language_info": {
   "codemirror_mode": {
    "name": "ipython",
    "version": 3
   },
   "file_extension": ".py",
   "mimetype": "text/x-python",
   "name": "python",
   "nbconvert_exporter": "python",
   "pygments_lexer": "ipython3",
   "version": "3.5.2"
  }
 },
 "nbformat": 4,
 "nbformat_minor": 2
}
